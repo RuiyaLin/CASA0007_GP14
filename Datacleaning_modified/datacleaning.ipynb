{
 "cells": [
  {
   "cell_type": "code",
   "execution_count": 2,
   "metadata": {},
   "outputs": [
    {
     "name": "stdout",
     "output_type": "stream",
     "text": [
      "/Users/linruiya/Desktop/UCL/CASA_0007/GP\n"
     ]
    }
   ],
   "source": [
    "# Check directory\n",
    "import os\n",
    "os.chdir('/Users/linruiya/Desktop/UCL/CASA_0007/GP')\n",
    "print(os.getcwd())\n"
   ]
  },
  {
   "cell_type": "code",
   "execution_count": 63,
   "metadata": {},
   "outputs": [
    {
     "name": "stderr",
     "output_type": "stream",
     "text": [
      "/var/folders/3q/2qxpflq54v78312ltmnxrmyr0000gn/T/ipykernel_17231/4072568788.py:4: DtypeWarning: Columns (0,2) have mixed types. Specify dtype option on import or set low_memory=False.\n",
      "  df_collisions0 = pd.read_csv('Safety_data/dft-road-casualty-statistics-collision-last-5-years.csv')\n"
     ]
    },
    {
     "name": "stdout",
     "output_type": "stream",
     "text": [
      "Data frame 1 is 520,084 x 37\n"
     ]
    },
    {
     "name": "stderr",
     "output_type": "stream",
     "text": [
      "/var/folders/3q/2qxpflq54v78312ltmnxrmyr0000gn/T/ipykernel_17231/4072568788.py:6: DtypeWarning: Columns (0,2) have mixed types. Specify dtype option on import or set low_memory=False.\n",
      "  df_vehicles0 = pd.read_csv('Safety_data/dft-road-casualty-statistics-vehicle-last-5-years.csv')\n"
     ]
    },
    {
     "name": "stdout",
     "output_type": "stream",
     "text": [
      "Data frame 2 is 953,559 x 34\n"
     ]
    },
    {
     "name": "stderr",
     "output_type": "stream",
     "text": [
      "/var/folders/3q/2qxpflq54v78312ltmnxrmyr0000gn/T/ipykernel_17231/4072568788.py:8: DtypeWarning: Columns (0,2) have mixed types. Specify dtype option on import or set low_memory=False.\n",
      "  df_persons = pd.read_csv('Safety_data/dft-road-casualty-statistics-casualty-last-5-years.csv')\n"
     ]
    },
    {
     "name": "stdout",
     "output_type": "stream",
     "text": [
      "Data frame 3 is 665,408 x 21\n"
     ]
    }
   ],
   "source": [
    "# import libraries\n",
    "import pandas as pd # type: ignore\n",
    "\n",
    "df_collisions0 = pd.read_csv('Safety_data/dft-road-casualty-statistics-collision-last-5-years.csv')\n",
    "print(f\"Data frame 1 is {df_collisions0.shape[0]:,} x {df_collisions0.shape[1]}\")\n",
    "df_vehicles0 = pd.read_csv('Safety_data/dft-road-casualty-statistics-vehicle-last-5-years.csv')\n",
    "print(f\"Data frame 2 is {df_vehicles0.shape[0]:,} x {df_vehicles0.shape[1]}\")\n",
    "df_persons = pd.read_csv('Safety_data/dft-road-casualty-statistics-casualty-last-5-years.csv')\n",
    "print(f\"Data frame 3 is {df_persons.shape[0]:,} x {df_persons.shape[1]}\")"
   ]
  },
  {
   "cell_type": "code",
   "execution_count": 64,
   "metadata": {},
   "outputs": [
    {
     "name": "stdout",
     "output_type": "stream",
     "text": [
      "location_northing_osgr    93\n",
      "location_easting_osgr     93\n",
      "longitude                 93\n",
      "latitude                  93\n",
      "accident_index             0\n",
      "dtype: int64\n"
     ]
    }
   ],
   "source": [
    "#Check NA 1: 查空值列1 collisions\n",
    "print(df_collisions0.isna().sum().sort_values(ascending=False).head(5))"
   ]
  },
  {
   "cell_type": "code",
   "execution_count": 65,
   "metadata": {},
   "outputs": [
    {
     "name": "stdout",
     "output_type": "stream",
     "text": [
      "dir_to_e         879666\n",
      "dir_to_n         879666\n",
      "dir_from_e       878595\n",
      "dir_from_n       878595\n",
      "accident_year         0\n",
      "dtype: int64\n"
     ]
    }
   ],
   "source": [
    "#Check NA 2: 查空值列2 vehicles\n",
    "print(df_vehicles0.isna().sum().sort_values(ascending=False).head(5))"
   ]
  },
  {
   "cell_type": "code",
   "execution_count": 66,
   "metadata": {},
   "outputs": [
    {
     "name": "stdout",
     "output_type": "stream",
     "text": [
      "accident_index        0\n",
      "accident_year         0\n",
      "accident_reference    0\n",
      "vehicle_reference     0\n",
      "casualty_reference    0\n",
      "dtype: int64\n"
     ]
    }
   ],
   "source": [
    "#Check NA 3: 查空值列3 accidents\n",
    "print(df_persons.isna().sum().sort_values(ascending=False).head(5))"
   ]
  },
  {
   "cell_type": "code",
   "execution_count": 67,
   "metadata": {},
   "outputs": [
    {
     "name": "stdout",
     "output_type": "stream",
     "text": [
      "longitude             93\n",
      "latitude              93\n",
      "accident_index         0\n",
      "accident_reference     0\n",
      "accident_year          0\n",
      "dtype: int64\n"
     ]
    }
   ],
   "source": [
    "# Delete columns with most na 删掉collisions中空值最多的两列\n",
    "df_collisions_cols = df_collisions0.drop(columns=['location_northing_osgr', 'location_easting_osgr'])\n",
    "print(df_collisions_cols.isna().sum().sort_values(ascending=False).head(5))"
   ]
  },
  {
   "cell_type": "code",
   "execution_count": 68,
   "metadata": {},
   "outputs": [
    {
     "name": "stdout",
     "output_type": "stream",
     "text": [
      "accident_index        0\n",
      "accident_year         0\n",
      "accident_reference    0\n",
      "longitude             0\n",
      "latitude              0\n",
      "dtype: int64\n"
     ]
    }
   ],
   "source": [
    "# Delete rows with most na 删掉collisions中经纬度有空值的行（因为这个数据很重要）\n",
    "df_collisions_clean = df_collisions_cols.dropna(subset=['longitude', 'latitude'])\n",
    "print(df_collisions_clean.isna().sum().sort_values(ascending=False).head(5))"
   ]
  },
  {
   "cell_type": "code",
   "execution_count": 69,
   "metadata": {},
   "outputs": [
    {
     "name": "stdout",
     "output_type": "stream",
     "text": [
      "accident_index        0\n",
      "accident_year         0\n",
      "accident_reference    0\n",
      "vehicle_reference     0\n",
      "vehicle_type          0\n",
      "dtype: int64\n"
     ]
    }
   ],
   "source": [
    "# Delete columns with most na 删掉vehicles中空值最多的四列\n",
    "df_vehicles_clean = df_vehicles0.drop(columns=['dir_to_e', 'dir_to_n','dir_from_e','dir_from_n'])\n",
    "print(df_vehicles_clean.isna().sum().sort_values(ascending=False).head(5))\n",
    "# 清完之后的df是 df_collisions_clean, df_vehicles_clean, df_persons"
   ]
  },
  {
   "cell_type": "code",
   "execution_count": 70,
   "metadata": {},
   "outputs": [
    {
     "name": "stdout",
     "output_type": "stream",
     "text": [
      "Index(['accident_index', 'accident_year', 'accident_reference', 'longitude',\n",
      "       'latitude', 'police_force', 'accident_severity', 'number_of_vehicles',\n",
      "       'number_of_casualties', 'date', 'day_of_week', 'time',\n",
      "       'local_authority_district', 'local_authority_ons_district',\n",
      "       'local_authority_highway', 'first_road_class', 'first_road_number',\n",
      "       'road_type', 'speed_limit', 'junction_detail', 'junction_control',\n",
      "       'second_road_class', 'second_road_number',\n",
      "       'pedestrian_crossing_human_control',\n",
      "       'pedestrian_crossing_physical_facilities', 'light_conditions',\n",
      "       'weather_conditions', 'road_surface_conditions',\n",
      "       'special_conditions_at_site', 'carriageway_hazards',\n",
      "       'urban_or_rural_area', 'did_police_officer_attend_scene_of_accident',\n",
      "       'trunk_road_flag', 'lsoa_of_accident_location',\n",
      "       'enhanced_severity_collision'],\n",
      "      dtype='object')\n",
      "Index(['accident_index', 'accident_year', 'accident_reference',\n",
      "       'vehicle_reference', 'casualty_reference', 'casualty_class',\n",
      "       'sex_of_casualty', 'age_of_casualty', 'age_band_of_casualty',\n",
      "       'casualty_severity', 'pedestrian_location', 'pedestrian_movement',\n",
      "       'car_passenger', 'bus_or_coach_passenger',\n",
      "       'pedestrian_road_maintenance_worker', 'casualty_type',\n",
      "       'casualty_home_area_type', 'casualty_imd_decile', 'lsoa_of_casualty',\n",
      "       'enhanced_casualty_severity', 'casualty_distance_banding'],\n",
      "      dtype='object')\n",
      "Index(['accident_index', 'accident_year', 'accident_reference',\n",
      "       'vehicle_reference', 'vehicle_type', 'towing_and_articulation',\n",
      "       'vehicle_manoeuvre', 'vehicle_direction_from', 'vehicle_direction_to',\n",
      "       'vehicle_location_restricted_lane', 'junction_location',\n",
      "       'skidding_and_overturning', 'hit_object_in_carriageway',\n",
      "       'vehicle_leaving_carriageway', 'hit_object_off_carriageway',\n",
      "       'first_point_of_impact', 'vehicle_left_hand_drive',\n",
      "       'journey_purpose_of_driver', 'sex_of_driver', 'age_of_driver',\n",
      "       'age_band_of_driver', 'engine_capacity_cc', 'propulsion_code',\n",
      "       'age_of_vehicle', 'generic_make_model', 'driver_imd_decile',\n",
      "       'driver_home_area_type', 'lsoa_of_driver', 'escooter_flag',\n",
      "       'driver_distance_banding'],\n",
      "      dtype='object')\n"
     ]
    }
   ],
   "source": [
    "# Check columns names 查看列头\n",
    "print(df_collisions_clean.columns)\n",
    "print(df_persons.columns)\n",
    "print(df_vehicles_clean.columns)"
   ]
  },
  {
   "cell_type": "code",
   "execution_count": 132,
   "metadata": {},
   "outputs": [
    {
     "name": "stdout",
     "output_type": "stream",
     "text": [
      "accident_combined\n",
      "2023_991462793    1\n",
      "2019_10128300     1\n",
      "2019_10152270     1\n",
      "2019_10155191     1\n",
      "2019_10155192     1\n",
      "2019_10155194     1\n",
      "2019_10155195     1\n",
      "2023_991436088    1\n",
      "2023_991434754    1\n",
      "2023_991433672    1\n",
      "2023_991433671    1\n",
      "2023_991431572    1\n",
      "2023_991430919    1\n",
      "2023_991430845    1\n",
      "2023_991426062    1\n",
      "2023_991423718    1\n",
      "2023_991423602    1\n",
      "2023_991418762    1\n",
      "2023_991418531    1\n",
      "2023_991418266    1\n",
      "Name: count, dtype: int64\n"
     ]
    },
    {
     "name": "stderr",
     "output_type": "stream",
     "text": [
      "/var/folders/3q/2qxpflq54v78312ltmnxrmyr0000gn/T/ipykernel_17231/1762107959.py:2: SettingWithCopyWarning: \n",
      "A value is trying to be set on a copy of a slice from a DataFrame.\n",
      "Try using .loc[row_indexer,col_indexer] = value instead\n",
      "\n",
      "See the caveats in the documentation: https://pandas.pydata.org/pandas-docs/stable/user_guide/indexing.html#returning-a-view-versus-a-copy\n",
      "  df_collisions_clean['index_combined'] = df_collisions_clean['accident_year'].astype(str) + \"_\" + df_collisions_clean['accident_reference'].astype(str)\n"
     ]
    }
   ],
   "source": [
    "# Merge two columns 将 'accident_reference' 和 'accident_year' 列组合成一个新的列\n",
    "df_collisions_clean['index_combined'] = df_collisions_clean['accident_year'].astype(str) + \"_\" + df_collisions_clean['accident_reference'].astype(str)\n",
    "\n",
    "# Calculate the frequency 计算这两列组合的频率\n",
    "print(df_collisions_clean['accident_combined'].value_counts().head(20))"
   ]
  },
  {
   "cell_type": "code",
   "execution_count": 133,
   "metadata": {},
   "outputs": [
    {
     "name": "stdout",
     "output_type": "stream",
     "text": [
      "index_combined\n",
      "2023_520300610    70\n",
      "2019_500885809    52\n",
      "2020_440349165    41\n",
      "2019_220855375    25\n",
      "2021_63CF00721    22\n",
      "2019_350900122    20\n",
      "2019_440129002    19\n",
      "2023_991309739    19\n",
      "2019_410889448    19\n",
      "2023_991362199    19\n",
      "2020_990939366    19\n",
      "2023_430158140    17\n",
      "2020_140924772    17\n",
      "2023_061339517    16\n",
      "2022_10377133     16\n",
      "2019_136AT1088    16\n",
      "2022_10356595     16\n",
      "2023_311387321    15\n",
      "2023_421354729    15\n",
      "2022_991220261    15\n",
      "2022_10387761     14\n",
      "2023_631350198    14\n",
      "2022_411164580    14\n",
      "2023_061363978    14\n",
      "2022_430413491    14\n",
      "2022_10392491     14\n",
      "2020_460977371    13\n",
      "2019_051911747    13\n",
      "2019_200843528    13\n",
      "2022_440347175    13\n",
      "2019_370923383    13\n",
      "2022_440333083    13\n",
      "2019_1369T0667    13\n",
      "2019_140838359    13\n",
      "2022_211187319    13\n",
      "2022_471142394    13\n",
      "2019_370911654    12\n",
      "2022_451218925    12\n",
      "2023_430032159    12\n",
      "2019_040874433    12\n",
      "2023_201343108    12\n",
      "2022_991238221    12\n",
      "2019_10200717     12\n",
      "2023_122300617    12\n",
      "2022_34WNC5522    12\n",
      "2019_06A264087    12\n",
      "2020_470916576    12\n",
      "2019_440223988    12\n",
      "2022_10395209     11\n",
      "2020_170H10270    11\n",
      "Name: count, dtype: int64\n"
     ]
    }
   ],
   "source": [
    "# Merge two columns 将 'accident_reference' 和 'accident_year' 列组合成一个新的列(因为index是科学计算法)\n",
    "df_persons['index_combined'] = df_persons['accident_year'].astype(str) + \"_\" + df_persons['accident_reference'].astype(str)\n",
    "\n",
    "# 计算这两列组合的频率\n",
    "print(df_persons['index_combined'].value_counts().head(50))"
   ]
  },
  {
   "cell_type": "code",
   "execution_count": 136,
   "metadata": {},
   "outputs": [
    {
     "name": "stdout",
     "output_type": "stream",
     "text": [
      "(665408, 25)\n",
      "(665408, 61)\n",
      "accident_index_y              72564\n",
      "longitude                     72564\n",
      "accident_reference_y          72564\n",
      "accident_year_y               72564\n",
      "special_conditions_at_site    72564\n",
      "                              ...  \n",
      "bus_or_coach_passenger            0\n",
      "casualty_severity                 0\n",
      "pedestrian_location               0\n",
      "pedestrian_movement               0\n",
      "car_passenger                     0\n",
      "Length: 61, dtype: int64\n"
     ]
    }
   ],
   "source": [
    "#  Merge df_persons with df_vehicles on 'index_combined'合并两个数据集，保留受伤的数据（因为一个意外可能有多个一个受伤的人\n",
    "print(df_persons.shape)\n",
    "df_per_coll = pd.merge(df_persons, df_collisions_clean, on='index_combined', how='left')\n",
    "\n",
    "print(df_per_coll.shape)\n",
    "print(df_per_coll.isna().sum().sort_values(ascending=False))"
   ]
  },
  {
   "cell_type": "code",
   "execution_count": 137,
   "metadata": {},
   "outputs": [
    {
     "name": "stdout",
     "output_type": "stream",
     "text": [
      "(89273, 61)\n"
     ]
    }
   ],
   "source": [
    "# Filter out london's data 从里面筛选出伦敦的\n",
    "df_per_coll_London = df_per_coll[df_per_coll['police_force'].isin([1, 48])]\n",
    "print(df_per_coll_London.shape)"
   ]
  },
  {
   "cell_type": "code",
   "execution_count": 138,
   "metadata": {},
   "outputs": [
    {
     "name": "stdout",
     "output_type": "stream",
     "text": [
      "(50101, 61)\n"
     ]
    }
   ],
   "source": [
    "# Filter out vru's data 从里面筛选出vru\n",
    "df_per_coll_London_vru = df_per_coll_London[df_per_coll_London['casualty_type'].isin([0,1,2,3,4,5,22,23,97,103,104,105,106])]\n",
    "print(df_per_coll_London_vru.shape)"
   ]
  },
  {
   "cell_type": "code",
   "execution_count": 140,
   "metadata": {},
   "outputs": [
    {
     "name": "stdout",
     "output_type": "stream",
     "text": [
      "casualty_type\n",
      "1     16317\n",
      "0     14724\n",
      "3     13253\n",
      "5      2395\n",
      "4      2017\n",
      "2      1098\n",
      "23      185\n",
      "97       64\n",
      "22       48\n",
      "Name: count, dtype: int64\n"
     ]
    }
   ],
   "source": [
    "# Check casualty_type 查看受伤类型\n",
    "value_counts = df_per_coll_London_vru['casualty_type'].value_counts()\n",
    "print(value_counts)"
   ]
  },
  {
   "cell_type": "code",
   "execution_count": 142,
   "metadata": {},
   "outputs": [],
   "source": [
    "# Selected columns 列出想要的列\n",
    "cols = ['accident_index_y','accident_year_y','accident_reference_y','longitude', 'latitude', 'police_force', \n",
    "        'accident_severity', 'date', 'day_of_week', 'local_authority_district', 'road_type', \n",
    "        'speed_limit', 'light_conditions', 'weather_conditions', 'road_surface_conditions', \n",
    "        'lsoa_of_accident_location', 'casualty_class', 'sex_of_casualty', 'casualty_severity', \n",
    "        'pedestrian_location', 'casualty_type', 'casualty_distance_banding','time']\n",
    "        \n"
   ]
  },
  {
   "cell_type": "code",
   "execution_count": 143,
   "metadata": {},
   "outputs": [
    {
     "name": "stdout",
     "output_type": "stream",
     "text": [
      "(50101, 23)\n"
     ]
    }
   ],
   "source": [
    "# Filtered out selected columns 筛出想要的列\n",
    "df_per_coll_London_vru_s1 = df_per_coll_London_vru[cols]\n",
    "print(df_per_coll_London_vru_s1.shape)"
   ]
  },
  {
   "cell_type": "code",
   "execution_count": 144,
   "metadata": {},
   "outputs": [
    {
     "name": "stdout",
     "output_type": "stream",
     "text": [
      "       accident_index_y  accident_year_y accident_reference_y  longitude  \\\n",
      "9151      2019010178902            2,019             10178902         -0   \n",
      "7709      2019010175174            2,019             10175174         -0   \n",
      "540008    2023010439771            2,023            010439771         -0   \n",
      "541326    2023010443094            2,023            010443094         -0   \n",
      "419800    2022010408364            2,022             10408364          0   \n",
      "172164    2020010274917            2,020            010274917         -0   \n",
      "540847    2023010441852            2,023            010441852         -0   \n",
      "423418    2022010417982            2,022             10417982         -0   \n",
      "293799    2021010348994            2,021            010348994         -0   \n",
      "421046    2022010411445            2,022             10411445         -0   \n",
      "\n",
      "        latitude  police_force  accident_severity        date  day_of_week  \\\n",
      "9151          52             1                  3  04/05/2019            7   \n",
      "7709          52             1                  3  14/04/2019            1   \n",
      "540008        52             1                  3  25/04/2023            3   \n",
      "541326        52             1                  3  14/05/2023            1   \n",
      "419800        52             1                  3  04/11/2022            6   \n",
      "172164        51             1                  3  20/10/2020            3   \n",
      "540847        52             1                  3  07/05/2023            1   \n",
      "423418        52             1                  3  23/12/2022            6   \n",
      "293799        52             1                  3  09/12/2021            5   \n",
      "421046        51             1                  2  18/11/2022            6   \n",
      "\n",
      "        local_authority_district  ...  weather_conditions  \\\n",
      "9151                           5  ...                   2   \n",
      "7709                           3  ...                   1   \n",
      "540008                        -1  ...                   1   \n",
      "541326                        -1  ...                   1   \n",
      "419800                        -1  ...                   1   \n",
      "172164                        21  ...                   1   \n",
      "540847                        -1  ...                   1   \n",
      "423418                        -1  ...                   2   \n",
      "293799                        -1  ...                   1   \n",
      "421046                        -1  ...                   1   \n",
      "\n",
      "        road_surface_conditions  lsoa_of_accident_location  casualty_class  \\\n",
      "9151                          2                  E01004267               1   \n",
      "7709                          1                  E01002710               1   \n",
      "540008                        1                  E01001209               1   \n",
      "541326                        1                  E01002698               1   \n",
      "419800                        2                  E01003587               3   \n",
      "172164                        1                  E01004148               1   \n",
      "540847                        1                  E01004765               1   \n",
      "423418                        2                  E01001875               3   \n",
      "293799                        1                  E01002697               1   \n",
      "421046                        1                  E01004509               1   \n",
      "\n",
      "        sex_of_casualty casualty_severity  pedestrian_location  casualty_type  \\\n",
      "9151                  1                 3                    0              3   \n",
      "7709                  1                 3                    0              1   \n",
      "540008                1                 3                    0              3   \n",
      "541326                1                 3                    0              3   \n",
      "419800                2                 3                    8              0   \n",
      "172164                1                 3                    0              1   \n",
      "540847                1                 3                    0              1   \n",
      "423418                2                 3                    1              0   \n",
      "293799                1                 3                    0              1   \n",
      "421046                1                 2                    0              1   \n",
      "\n",
      "        casualty_distance_banding   time  \n",
      "9151                            1  18:30  \n",
      "7709                            1  22:12  \n",
      "540008                          4  17:45  \n",
      "541326                          1  16:34  \n",
      "419800                          1  09:03  \n",
      "172164                          1  16:44  \n",
      "540847                          3  12:15  \n",
      "423418                          1  07:50  \n",
      "293799                          1  13:30  \n",
      "421046                          1  16:20  \n",
      "\n",
      "[10 rows x 23 columns]\n"
     ]
    }
   ],
   "source": [
    "# Check the final dataset 检查最终数据集\n",
    "print(df_per_coll_London_vru_s1.sample(10))"
   ]
  },
  {
   "cell_type": "code",
   "execution_count": 145,
   "metadata": {},
   "outputs": [
    {
     "data": {
      "text/plain": [
       "accident_index_y             0\n",
       "accident_year_y              0\n",
       "accident_reference_y         0\n",
       "longitude                    0\n",
       "latitude                     0\n",
       "police_force                 0\n",
       "accident_severity            0\n",
       "date                         0\n",
       "day_of_week                  0\n",
       "local_authority_district     0\n",
       "road_type                    0\n",
       "speed_limit                  0\n",
       "light_conditions             0\n",
       "weather_conditions           0\n",
       "road_surface_conditions      0\n",
       "lsoa_of_accident_location    0\n",
       "casualty_class               0\n",
       "sex_of_casualty              0\n",
       "casualty_severity            0\n",
       "pedestrian_location          0\n",
       "casualty_type                0\n",
       "casualty_distance_banding    0\n",
       "time                         0\n",
       "dtype: int64"
      ]
     },
     "execution_count": 145,
     "metadata": {},
     "output_type": "execute_result"
    }
   ],
   "source": [
    "# Check na 检查na\n",
    "df_per_coll_London_vru_s1.isnull().sum(axis=0).sort_values(ascending=False)"
   ]
  },
  {
   "cell_type": "code",
   "execution_count": 146,
   "metadata": {},
   "outputs": [],
   "source": [
    "# save to csv\n",
    "df_per_coll_London_vru.to_csv('df_per_coll_London_vru.csv', index=False)\n",
    "df_per_coll_London_vru_s1.to_csv('df_per_coll_London_vru_s1.csv', index=False)"
   ]
  }
 ],
 "metadata": {
  "kernelspec": {
   "display_name": "myenv",
   "language": "python",
   "name": "python3"
  },
  "language_info": {
   "codemirror_mode": {
    "name": "ipython",
    "version": 3
   },
   "file_extension": ".py",
   "mimetype": "text/x-python",
   "name": "python",
   "nbconvert_exporter": "python",
   "pygments_lexer": "ipython3",
   "version": "3.12.7"
  }
 },
 "nbformat": 4,
 "nbformat_minor": 2
}
