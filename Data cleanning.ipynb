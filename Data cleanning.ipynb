{
 "cells": [
  {
   "cell_type": "code",
   "execution_count": null,
   "id": "7592c9ae-cb92-45bb-b76c-3ccd963f6878",
   "metadata": {},
   "outputs": [],
   "source": [
    "# Import libraries"
   ]
  },
  {
   "cell_type": "code",
   "execution_count": null,
   "id": "5bc3537d-35a4-424d-8e90-7f6c273b7309",
   "metadata": {},
   "outputs": [],
   "source": [
    "# Check dataset"
   ]
  },
  {
   "cell_type": "code",
   "execution_count": 1,
   "id": "33c56368-6a44-434b-a1e7-206614edf67c",
   "metadata": {},
   "outputs": [],
   "source": [
    "# Merge two datasets"
   ]
  },
  {
   "cell_type": "code",
   "execution_count": null,
   "id": "ff8535d6-f469-4770-a08b-889c0a1d6ea6",
   "metadata": {},
   "outputs": [],
   "source": [
    "# Filter"
   ]
  },
  {
   "cell_type": "code",
   "execution_count": null,
   "id": "c18b24cc-4fd4-4401-827b-74477e5927e2",
   "metadata": {},
   "outputs": [],
   "source": [
    "# Spatial data"
   ]
  }
 ],
 "metadata": {
  "kernelspec": {
   "display_name": "Python (base)",
   "language": "python",
   "name": "base"
  },
  "language_info": {
   "codemirror_mode": {
    "name": "ipython",
    "version": 3
   },
   "file_extension": ".py",
   "mimetype": "text/x-python",
   "name": "python",
   "nbconvert_exporter": "python",
   "pygments_lexer": "ipython3",
   "version": "3.11.9"
  }
 },
 "nbformat": 4,
 "nbformat_minor": 5
}
