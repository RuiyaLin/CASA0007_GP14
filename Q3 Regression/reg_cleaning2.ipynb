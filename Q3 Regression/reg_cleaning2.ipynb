{
 "cells": [
  {
   "cell_type": "code",
   "execution_count": 32,
   "metadata": {},
   "outputs": [
    {
     "name": "stdout",
     "output_type": "stream",
     "text": [
      "/home/jovyan/work/quant_methods/Assessment/Group Work/Regression\n"
     ]
    }
   ],
   "source": [
    "# Directory \n",
    "import os\n",
    "os.chdir(\"/home/jovyan/work/quant_methods/Assessment/Group Work/Regression\")\n",
    "print(os.getcwd())"
   ]
  },
  {
   "cell_type": "code",
   "execution_count": 33,
   "metadata": {},
   "outputs": [],
   "source": [
    "# importing libraries\n",
    "import pandas as pd"
   ]
  },
  {
   "cell_type": "code",
   "execution_count": 34,
   "metadata": {},
   "outputs": [
    {
     "name": "stdout",
     "output_type": "stream",
     "text": [
      "<class 'pandas.core.frame.DataFrame'>\n",
      "RangeIndex: 24594 entries, 0 to 24593\n",
      "Data columns (total 23 columns):\n",
      " #   Column                     Non-Null Count  Dtype  \n",
      "---  ------                     --------------  -----  \n",
      " 0   accident_index             24594 non-null  object \n",
      " 1   accident_year_x            24594 non-null  int64  \n",
      " 2   accident_reference_x       24594 non-null  object \n",
      " 3   longitude                  24594 non-null  float64\n",
      " 4   latitude                   24594 non-null  float64\n",
      " 5   police_force               24594 non-null  int64  \n",
      " 6   accident_severity          24594 non-null  int64  \n",
      " 7   date                       24594 non-null  object \n",
      " 8   day_of_week                24594 non-null  int64  \n",
      " 9   local_authority_district   24594 non-null  int64  \n",
      " 10  road_type                  24594 non-null  int64  \n",
      " 11  speed_limit                24594 non-null  int64  \n",
      " 12  light_conditions           24594 non-null  int64  \n",
      " 13  weather_conditions         24594 non-null  int64  \n",
      " 14  road_surface_conditions    24594 non-null  int64  \n",
      " 15  lsoa_of_accident_location  24594 non-null  object \n",
      " 16  casualty_class             24594 non-null  int64  \n",
      " 17  sex_of_casualty            24594 non-null  int64  \n",
      " 18  casualty_severity          24594 non-null  int64  \n",
      " 19  pedestrian_location        24594 non-null  int64  \n",
      " 20  casualty_type              24594 non-null  int64  \n",
      " 21  casualty_distance_banding  24594 non-null  int64  \n",
      " 22  time                       24594 non-null  object \n",
      "dtypes: float64(2), int64(16), object(5)\n",
      "memory usage: 4.3+ MB\n"
     ]
    }
   ],
   "source": [
    "df1 = pd.read_csv('df_per_coll_London_cyc_s1.csv')\n",
    "df1.info()"
   ]
  },
  {
   "cell_type": "markdown",
   "metadata": {},
   "source": [
    "We will change our `light_conditions` because 1 represents light and all other categories represent various forms of darkness.In our regression, we will use 1 to represent light and 0 to represent darkness."
   ]
  },
  {
   "cell_type": "code",
   "execution_count": 35,
   "metadata": {},
   "outputs": [
    {
     "name": "stdout",
     "output_type": "stream",
     "text": [
      "<class 'pandas.core.frame.DataFrame'>\n",
      "RangeIndex: 24594 entries, 0 to 24593\n",
      "Data columns (total 24 columns):\n",
      " #   Column                     Non-Null Count  Dtype  \n",
      "---  ------                     --------------  -----  \n",
      " 0   accident_index             24594 non-null  object \n",
      " 1   accident_year_x            24594 non-null  int64  \n",
      " 2   accident_reference_x       24594 non-null  object \n",
      " 3   longitude                  24594 non-null  float64\n",
      " 4   latitude                   24594 non-null  float64\n",
      " 5   police_force               24594 non-null  int64  \n",
      " 6   accident_severity          24594 non-null  int64  \n",
      " 7   date                       24594 non-null  object \n",
      " 8   day_of_week                24594 non-null  int64  \n",
      " 9   local_authority_district   24594 non-null  int64  \n",
      " 10  road_type                  24594 non-null  int64  \n",
      " 11  speed_limit                24594 non-null  int64  \n",
      " 12  light_conditions           24594 non-null  int64  \n",
      " 13  weather_conditions         24594 non-null  int64  \n",
      " 14  road_surface_conditions    24594 non-null  int64  \n",
      " 15  lsoa_of_accident_location  24594 non-null  object \n",
      " 16  casualty_class             24594 non-null  int64  \n",
      " 17  sex_of_casualty            24594 non-null  int64  \n",
      " 18  casualty_severity          24594 non-null  int64  \n",
      " 19  pedestrian_location        24594 non-null  int64  \n",
      " 20  casualty_type              24594 non-null  int64  \n",
      " 21  casualty_distance_banding  24594 non-null  int64  \n",
      " 22  time                       24594 non-null  object \n",
      " 23  light                      24594 non-null  int64  \n",
      "dtypes: float64(2), int64(17), object(5)\n",
      "memory usage: 4.5+ MB\n"
     ]
    }
   ],
   "source": [
    "df1['light'] = df1['light_conditions'].apply(lambda x: 1 if x == 1 else 0)\n",
    "df1.info()"
   ]
  },
  {
   "cell_type": "code",
   "execution_count": 36,
   "metadata": {},
   "outputs": [
    {
     "name": "stdout",
     "output_type": "stream",
     "text": [
      "<class 'pandas.core.frame.DataFrame'>\n",
      "RangeIndex: 24594 entries, 0 to 24593\n",
      "Data columns (total 23 columns):\n",
      " #   Column                     Non-Null Count  Dtype  \n",
      "---  ------                     --------------  -----  \n",
      " 0   accident_index             24594 non-null  object \n",
      " 1   accident_year_x            24594 non-null  int64  \n",
      " 2   accident_reference_x       24594 non-null  object \n",
      " 3   longitude                  24594 non-null  float64\n",
      " 4   latitude                   24594 non-null  float64\n",
      " 5   police_force               24594 non-null  int64  \n",
      " 6   accident_severity          24594 non-null  int64  \n",
      " 7   date                       24594 non-null  object \n",
      " 8   day_of_week                24594 non-null  int64  \n",
      " 9   local_authority_district   24594 non-null  int64  \n",
      " 10  road_type                  24594 non-null  int64  \n",
      " 11  speed_limit                24594 non-null  int64  \n",
      " 12  weather_conditions         24594 non-null  int64  \n",
      " 13  road_surface_conditions    24594 non-null  int64  \n",
      " 14  lsoa_of_accident_location  24594 non-null  object \n",
      " 15  casualty_class             24594 non-null  int64  \n",
      " 16  sex_of_casualty            24594 non-null  int64  \n",
      " 17  casualty_severity          24594 non-null  int64  \n",
      " 18  pedestrian_location        24594 non-null  int64  \n",
      " 19  casualty_type              24594 non-null  int64  \n",
      " 20  casualty_distance_banding  24594 non-null  int64  \n",
      " 21  time                       24594 non-null  object \n",
      " 22  light                      24594 non-null  int64  \n",
      "dtypes: float64(2), int64(16), object(5)\n",
      "memory usage: 4.3+ MB\n"
     ]
    }
   ],
   "source": [
    "df1 = df1.drop(columns=['light_conditions'])\n",
    "df1.info() "
   ]
  },
  {
   "cell_type": "code",
   "execution_count": 37,
   "metadata": {},
   "outputs": [
    {
     "name": "stdout",
     "output_type": "stream",
     "text": [
      "   accident_year_x  light  speed_limit  road_surface_conditions  \\\n",
      "0             2019      0           -1                        1   \n",
      "1             2019      0           20                        1   \n",
      "2             2019      0           20                        1   \n",
      "3             2019      0           20                        1   \n",
      "4             2019      0           20                        1   \n",
      "\n",
      "   weather_conditions  accident_count  \n",
      "0                   8               1  \n",
      "1                   1             233  \n",
      "2                   2               3  \n",
      "3                   4               2  \n",
      "4                   8               4  \n"
     ]
    }
   ],
   "source": [
    "# Group data by location, year, severity, and additional predictors\n",
    "df_aggregated = df1.groupby(\n",
    "    ['accident_year_x', 'light', 'speed_limit', 'road_surface_conditions', 'weather_conditions' ]\n",
    ").size().reset_index(name='accident_count')\n",
    "\n",
    "# Check the aggregated data\n",
    "print(df_aggregated.head())\n"
   ]
  },
  {
   "cell_type": "code",
   "execution_count": 38,
   "metadata": {},
   "outputs": [
    {
     "name": "stdout",
     "output_type": "stream",
     "text": [
      "Count of attributes with value 9 per column:\n",
      "accident_year_x             0\n",
      "light                       0\n",
      "speed_limit                 0\n",
      "road_surface_conditions    90\n",
      "weather_conditions         77\n",
      "accident_count             11\n",
      "dtype: int64\n",
      "\n",
      "Count of attributes with value 99 per column:\n",
      "accident_year_x            0\n",
      "light                      0\n",
      "speed_limit                0\n",
      "road_surface_conditions    0\n",
      "weather_conditions         0\n",
      "accident_count             0\n",
      "dtype: int64\n",
      "\n",
      "Count of attributes with value -1 per column:\n",
      "accident_year_x            0\n",
      "light                      0\n",
      "speed_limit                4\n",
      "road_surface_conditions    0\n",
      "weather_conditions         0\n",
      "accident_count             0\n",
      "dtype: int64\n"
     ]
    }
   ],
   "source": [
    "# Count the occurrences of 9 or -1 in each column\n",
    "# 9 represents \"unknown (self reported)\"\n",
    "# -1 represents \"Data missing or out of range\"\n",
    "count_9 = (df_aggregated == 9).sum()\n",
    "count_neg1 = (df_aggregated == -1).sum()\n",
    "count_99 = (df_aggregated == 99).sum()\n",
    "\n",
    "print(\"Count of attributes with value 9 per column:\")\n",
    "print(count_9)\n",
    "print(\"\\nCount of attributes with value 99 per column:\")\n",
    "print(count_99)\n",
    "print(\"\\nCount of attributes with value -1 per column:\")\n",
    "print(count_neg1)"
   ]
  },
  {
   "cell_type": "code",
   "execution_count": 39,
   "metadata": {},
   "outputs": [],
   "source": [
    "# Filter out rows where road_surface_conditions == 9 or sex_of_casualty == -1\n",
    "df_cleaned = df_aggregated[~((df_aggregated['road_surface_conditions'] == 9) | (df_aggregated['weather_conditions'] == 9) | \n",
    "                             (df_aggregated['speed_limit'] == -1))]"
   ]
  },
  {
   "cell_type": "code",
   "execution_count": 40,
   "metadata": {},
   "outputs": [],
   "source": [
    "df_cleaned.to_csv('df_cleaned2.csv', index=False)"
   ]
  }
 ],
 "metadata": {
  "kernelspec": {
   "display_name": "Python (base)",
   "language": "python",
   "name": "base"
  },
  "language_info": {
   "codemirror_mode": {
    "name": "ipython",
    "version": 3
   },
   "file_extension": ".py",
   "mimetype": "text/x-python",
   "name": "python",
   "nbconvert_exporter": "python",
   "pygments_lexer": "ipython3",
   "version": "3.11.9"
  }
 },
 "nbformat": 4,
 "nbformat_minor": 2
}
