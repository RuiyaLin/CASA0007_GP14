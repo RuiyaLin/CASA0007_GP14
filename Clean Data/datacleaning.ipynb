{
 "cells": [
  {
   "cell_type": "code",
   "execution_count": 7,
   "metadata": {},
   "outputs": [
    {
     "name": "stdout",
     "output_type": "stream",
     "text": [
      "/home/jovyan/work/quant_methods/Assessment/Group Work/Data\n"
     ]
    }
   ],
   "source": [
    "import os\n",
    "os.chdir('/home/jovyan/work/quant_methods/Assessment/Group Work/Data')\n",
    "print(os.getcwd())\n"
   ]
  },
  {
   "cell_type": "code",
   "execution_count": 9,
   "metadata": {},
   "outputs": [
    {
     "name": "stderr",
     "output_type": "stream",
     "text": [
      "/tmp/ipykernel_1094/1646971792.py:4: DtypeWarning: Columns (0,2) have mixed types. Specify dtype option on import or set low_memory=False.\n",
      "  df_collisions = pd.read_csv('dft-road-casualty-statistics-collision-last-5-years.csv')\n"
     ]
    },
    {
     "name": "stdout",
     "output_type": "stream",
     "text": [
      "Data frame 1 is 520,084 x 37\n"
     ]
    },
    {
     "name": "stderr",
     "output_type": "stream",
     "text": [
      "/tmp/ipykernel_1094/1646971792.py:6: DtypeWarning: Columns (0,2) have mixed types. Specify dtype option on import or set low_memory=False.\n",
      "  df_vehicles = pd.read_csv('dft-road-casualty-statistics-vehicle-last-5-years.csv')\n"
     ]
    },
    {
     "name": "stdout",
     "output_type": "stream",
     "text": [
      "Data frame 2 is 953,559 x 34\n",
      "Data frame 3 is 665,408 x 21\n"
     ]
    },
    {
     "name": "stderr",
     "output_type": "stream",
     "text": [
      "/tmp/ipykernel_1094/1646971792.py:8: DtypeWarning: Columns (0,2) have mixed types. Specify dtype option on import or set low_memory=False.\n",
      "  df_persons = pd.read_csv('dft-road-casualty-statistics-casualty-last-5-years.csv')\n"
     ]
    }
   ],
   "source": [
    "# importing libraries\n",
    "import pandas as pd # type: ignore\n",
    "\n",
    "df_collisions = pd.read_csv('dft-road-casualty-statistics-collision-last-5-years.csv')\n",
    "print(f\"Data frame 1 is {df_collisions.shape[0]:,} x {df_collisions.shape[1]}\")\n",
    "df_vehicles = pd.read_csv('dft-road-casualty-statistics-vehicle-last-5-years.csv')\n",
    "print(f\"Data frame 2 is {df_vehicles.shape[0]:,} x {df_vehicles.shape[1]}\")\n",
    "df_persons = pd.read_csv('dft-road-casualty-statistics-casualty-last-5-years.csv')\n",
    "print(f\"Data frame 3 is {df_persons.shape[0]:,} x {df_persons.shape[1]}\")"
   ]
  },
  {
   "cell_type": "code",
   "execution_count": 12,
   "metadata": {},
   "outputs": [
    {
     "name": "stdout",
     "output_type": "stream",
     "text": [
      "(1423431, 90)\n"
     ]
    }
   ],
   "source": [
    "# Merge df_collisions with df_vehicles on 'accident_index'\n",
    "df_coll_veh = pd.merge(df_collisions, df_vehicles, on='accident_index', how='outer')\n",
    "\n",
    "# Merge the resulting dataframe with df_persons on 'accident_index'\n",
    "df_merged = pd.merge(df_coll_veh, df_persons, on='accident_index', how='outer')\n",
    "\n",
    "print(df_merged.shape)"
   ]
  },
  {
   "cell_type": "code",
   "execution_count": 19,
   "metadata": {},
   "outputs": [
    {
     "name": "stdout",
     "output_type": "stream",
     "text": [
      "(76518, 90)\n"
     ]
    }
   ],
   "source": [
    "df_vru = df_merged[(df_merged['police_force'].isin([1, 48])) &  # Metropolitan & City of London Police\n",
    "                   (df_merged['casualty_type'].isin([0,1,2,3,4,5,22,23,97,103,104,105,106])) # VRUs\n",
    "]\n",
    "\n",
    "print(df_vru.shape)"
   ]
  },
  {
   "cell_type": "code",
   "execution_count": 21,
   "metadata": {},
   "outputs": [
    {
     "name": "stdout",
     "output_type": "stream",
     "text": [
      "casualty_type\n",
      "1.0     27836\n",
      "3.0     22828\n",
      "0.0     15561\n",
      "5.0      4267\n",
      "4.0      3590\n",
      "2.0      1935\n",
      "23.0      323\n",
      "97.0       99\n",
      "22.0       79\n",
      "Name: count, dtype: int64\n"
     ]
    }
   ],
   "source": [
    "#print(df_vru.sample(20))\n",
    "value_counts = df_vru['casualty_type'].value_counts()\n",
    "print(value_counts)"
   ]
  },
  {
   "cell_type": "code",
   "execution_count": 31,
   "metadata": {},
   "outputs": [],
   "source": [
    "cols = ['accident_index','accident_year', 'accident_reference', 'longitude', 'latitude', 'police_force', \n",
    "        'accident_severity', 'date', 'day_of_week', 'local_authority_district', 'road_type', \n",
    "        'speed_limit', 'light_conditions', 'weather_conditions', 'road_surface_conditions', \n",
    "        'lsoa_of_accident_location', 'casualty_class', 'sex_of_casualty', 'casualty_severity', \n",
    "        'pedestrian_location', 'casualty_type', 'casualty_distance_banding','time']\n",
    "        \n"
   ]
  },
  {
   "cell_type": "code",
   "execution_count": 32,
   "metadata": {},
   "outputs": [
    {
     "name": "stdout",
     "output_type": "stream",
     "text": [
      "(76518, 23)\n"
     ]
    }
   ],
   "source": [
    "df_vru_s1 = df_vru[cols]\n",
    "print(df_vru_s1.shape)"
   ]
  },
  {
   "cell_type": "code",
   "execution_count": null,
   "metadata": {},
   "outputs": [],
   "source": [
    "print(df_vru_s1.sample(20))"
   ]
  },
  {
   "cell_type": "code",
   "execution_count": null,
   "metadata": {},
   "outputs": [],
   "source": [
    "df_vru_s1.isnull().sum(axis=0).sort_values(ascending=False)"
   ]
  },
  {
   "cell_type": "code",
   "execution_count": 35,
   "metadata": {},
   "outputs": [],
   "source": [
    "# save to csv\n",
    "df_vru_s1.to_csv('df_vru_s1.csv', index=False)\n",
    "df_vru.to_csv('df_vru.csv', index=False)"
   ]
  },
  {
   "cell_type": "code",
   "execution_count": null,
   "metadata": {},
   "outputs": [],
   "source": [
    "import geopandas as gpd\n",
    "from shapely.geometry import Point\n",
    "\n",
    "# Create a geometry column from 'latitude' and 'longitude' columns\n",
    "geometry = [Point(xy) for xy in zip(df_vru_s1['longitude'], df_vru_s1['latitude'])]\n",
    "\n",
    "# Create a GeoDataFrame\n",
    "gdf_vru_s1 = gpd.GeoDataFrame(df_vru_s1, geometry=geometry)\n",
    "\n",
    "print(gdf_vru_s1.head())"
   ]
  },
  {
   "cell_type": "code",
   "execution_count": 37,
   "metadata": {},
   "outputs": [
    {
     "name": "stderr",
     "output_type": "stream",
     "text": [
      "/opt/conda/lib/python3.11/site-packages/pyogrio/geopandas.py:662: UserWarning: 'crs' was not provided.  The output dataset will not have projection information defined and may not be usable in other systems.\n",
      "  write(\n"
     ]
    }
   ],
   "source": [
    "gdf_vru_s1.to_file('gdf_vru_s1.gpkg', layer='vru_s1', driver='GPKG')"
   ]
  }
 ],
 "metadata": {
  "kernelspec": {
   "display_name": "Python (base)",
   "language": "python",
   "name": "base"
  },
  "language_info": {
   "codemirror_mode": {
    "name": "ipython",
    "version": 3
   },
   "file_extension": ".py",
   "mimetype": "text/x-python",
   "name": "python",
   "nbconvert_exporter": "python",
   "pygments_lexer": "ipython3",
   "version": "3.11.9"
  }
 },
 "nbformat": 4,
 "nbformat_minor": 2
}
