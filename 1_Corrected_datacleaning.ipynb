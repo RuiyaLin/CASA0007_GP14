{
 "cells": [
  {
   "cell_type": "code",
   "execution_count": 1,
   "id": "971fec46-a30c-40a1-b30c-5f5d9d41bc18",
   "metadata": {},
   "outputs": [
    {
     "name": "stdout",
     "output_type": "stream",
     "text": [
      "/home/jovyan/work/Desktop/UCL/CASA_0007/GP\n"
     ]
    }
   ],
   "source": [
    "# Directory \n",
    "import os\n",
    "os.chdir(\"/home/jovyan/work/Desktop/UCL/CASA_0007/GP\")\n",
    "print(os.getcwd())"
   ]
  },
  {
   "cell_type": "code",
   "execution_count": 3,
   "id": "ba64fd89-b03e-4411-ae5f-a14f8c4c677f",
   "metadata": {},
   "outputs": [],
   "source": [
    "# import libraries\n",
    "import pandas as pd"
   ]
  },
  {
   "cell_type": "code",
   "execution_count": 4,
   "id": "0c51548a-ee3a-4d17-a75a-7ad5c6198aff",
   "metadata": {},
   "outputs": [
    {
     "name": "stderr",
     "output_type": "stream",
     "text": [
      "/tmp/ipykernel_5679/1962014444.py:2: DtypeWarning: Columns (0,2) have mixed types. Specify dtype option on import or set low_memory=False.\n",
      "  df_collisions = pd.read_csv('Safety_data/dft-road-casualty-statistics-collision-last-5-years_1.csv')\n"
     ]
    }
   ],
   "source": [
    "# 导入collision 数据\n",
    "df_collisions = pd.read_csv('Safety_data/dft-road-casualty-statistics-collision-last-5-years_1.csv')"
   ]
  },
  {
   "cell_type": "code",
   "execution_count": 5,
   "id": "288a75f0-0ed8-4d37-b7a9-c79ade648fb2",
   "metadata": {},
   "outputs": [],
   "source": [
    "# 将 'accident_index' 和 'accident_reference' 列中的整数转换为字符串\n",
    "df_collisions['accident_index'] = df_collisions['accident_index'].astype(str)\n",
    "df_collisions['accident_reference'] = df_collisions['accident_reference'].astype(str)"
   ]
  },
  {
   "cell_type": "code",
   "execution_count": 6,
   "id": "02cd45b0-72c4-4406-9a60-c1b971c0ef27",
   "metadata": {},
   "outputs": [
    {
     "name": "stdout",
     "output_type": "stream",
     "text": [
      "Column: accident_index\n",
      "accident_index\n",
      "<class 'str'>    520084\n",
      "Name: count, dtype: int64\n",
      "----------------------------------------\n",
      "Column: accident_year\n",
      "accident_year\n",
      "<class 'int'>    520084\n",
      "Name: count, dtype: int64\n",
      "----------------------------------------\n",
      "Column: accident_reference\n",
      "accident_reference\n",
      "<class 'str'>    520084\n",
      "Name: count, dtype: int64\n",
      "----------------------------------------\n",
      "Column: location_easting_osgr\n",
      "location_easting_osgr\n",
      "<class 'float'>    520084\n",
      "Name: count, dtype: int64\n",
      "----------------------------------------\n",
      "Column: location_northing_osgr\n",
      "location_northing_osgr\n",
      "<class 'float'>    520084\n",
      "Name: count, dtype: int64\n",
      "----------------------------------------\n",
      "Column: longitude\n",
      "longitude\n",
      "<class 'float'>    520084\n",
      "Name: count, dtype: int64\n",
      "----------------------------------------\n",
      "Column: latitude\n",
      "latitude\n",
      "<class 'float'>    520084\n",
      "Name: count, dtype: int64\n",
      "----------------------------------------\n",
      "Column: police_force\n",
      "police_force\n",
      "<class 'int'>    520084\n",
      "Name: count, dtype: int64\n",
      "----------------------------------------\n",
      "Column: accident_severity\n",
      "accident_severity\n",
      "<class 'int'>    520084\n",
      "Name: count, dtype: int64\n",
      "----------------------------------------\n",
      "Column: number_of_vehicles\n",
      "number_of_vehicles\n",
      "<class 'int'>    520084\n",
      "Name: count, dtype: int64\n",
      "----------------------------------------\n",
      "Column: number_of_casualties\n",
      "number_of_casualties\n",
      "<class 'int'>    520084\n",
      "Name: count, dtype: int64\n",
      "----------------------------------------\n",
      "Column: date\n",
      "date\n",
      "<class 'str'>    520084\n",
      "Name: count, dtype: int64\n",
      "----------------------------------------\n",
      "Column: day_of_week\n",
      "day_of_week\n",
      "<class 'int'>    520084\n",
      "Name: count, dtype: int64\n",
      "----------------------------------------\n",
      "Column: time\n",
      "time\n",
      "<class 'str'>    520084\n",
      "Name: count, dtype: int64\n",
      "----------------------------------------\n",
      "Column: local_authority_district\n",
      "local_authority_district\n",
      "<class 'int'>    520084\n",
      "Name: count, dtype: int64\n",
      "----------------------------------------\n",
      "Column: local_authority_ons_district\n",
      "local_authority_ons_district\n",
      "<class 'str'>    520084\n",
      "Name: count, dtype: int64\n",
      "----------------------------------------\n",
      "Column: local_authority_highway\n",
      "local_authority_highway\n",
      "<class 'str'>    520084\n",
      "Name: count, dtype: int64\n",
      "----------------------------------------\n",
      "Column: first_road_class\n",
      "first_road_class\n",
      "<class 'int'>    520084\n",
      "Name: count, dtype: int64\n",
      "----------------------------------------\n",
      "Column: first_road_number\n",
      "first_road_number\n",
      "<class 'int'>    520084\n",
      "Name: count, dtype: int64\n",
      "----------------------------------------\n",
      "Column: road_type\n",
      "road_type\n",
      "<class 'int'>    520084\n",
      "Name: count, dtype: int64\n",
      "----------------------------------------\n",
      "Column: speed_limit\n",
      "speed_limit\n",
      "<class 'int'>    520084\n",
      "Name: count, dtype: int64\n",
      "----------------------------------------\n",
      "Column: junction_detail\n",
      "junction_detail\n",
      "<class 'int'>    520084\n",
      "Name: count, dtype: int64\n",
      "----------------------------------------\n",
      "Column: junction_control\n",
      "junction_control\n",
      "<class 'int'>    520084\n",
      "Name: count, dtype: int64\n",
      "----------------------------------------\n",
      "Column: second_road_class\n",
      "second_road_class\n",
      "<class 'int'>    520084\n",
      "Name: count, dtype: int64\n",
      "----------------------------------------\n",
      "Column: second_road_number\n",
      "second_road_number\n",
      "<class 'int'>    520084\n",
      "Name: count, dtype: int64\n",
      "----------------------------------------\n",
      "Column: pedestrian_crossing_human_control\n",
      "pedestrian_crossing_human_control\n",
      "<class 'int'>    520084\n",
      "Name: count, dtype: int64\n",
      "----------------------------------------\n",
      "Column: pedestrian_crossing_physical_facilities\n",
      "pedestrian_crossing_physical_facilities\n",
      "<class 'int'>    520084\n",
      "Name: count, dtype: int64\n",
      "----------------------------------------\n",
      "Column: light_conditions\n",
      "light_conditions\n",
      "<class 'int'>    520084\n",
      "Name: count, dtype: int64\n",
      "----------------------------------------\n",
      "Column: weather_conditions\n",
      "weather_conditions\n",
      "<class 'int'>    520084\n",
      "Name: count, dtype: int64\n",
      "----------------------------------------\n",
      "Column: road_surface_conditions\n",
      "road_surface_conditions\n",
      "<class 'int'>    520084\n",
      "Name: count, dtype: int64\n",
      "----------------------------------------\n",
      "Column: special_conditions_at_site\n",
      "special_conditions_at_site\n",
      "<class 'int'>    520084\n",
      "Name: count, dtype: int64\n",
      "----------------------------------------\n",
      "Column: carriageway_hazards\n",
      "carriageway_hazards\n",
      "<class 'int'>    520084\n",
      "Name: count, dtype: int64\n",
      "----------------------------------------\n",
      "Column: urban_or_rural_area\n",
      "urban_or_rural_area\n",
      "<class 'int'>    520084\n",
      "Name: count, dtype: int64\n",
      "----------------------------------------\n",
      "Column: did_police_officer_attend_scene_of_accident\n",
      "did_police_officer_attend_scene_of_accident\n",
      "<class 'int'>    520084\n",
      "Name: count, dtype: int64\n",
      "----------------------------------------\n",
      "Column: trunk_road_flag\n",
      "trunk_road_flag\n",
      "<class 'int'>    520084\n",
      "Name: count, dtype: int64\n",
      "----------------------------------------\n",
      "Column: lsoa_of_accident_location\n",
      "lsoa_of_accident_location\n",
      "<class 'str'>    520084\n",
      "Name: count, dtype: int64\n",
      "----------------------------------------\n",
      "Column: enhanced_severity_collision\n",
      "enhanced_severity_collision\n",
      "<class 'int'>    520084\n",
      "Name: count, dtype: int64\n",
      "----------------------------------------\n"
     ]
    }
   ],
   "source": [
    "# 检查每一列中的唯一值的数据类型\n",
    "for column in df_collisions.columns:\n",
    "    print(f\"Column: {column}\")\n",
    "    print(df_collisions[column].apply(type).value_counts())\n",
    "    print(\"-\" * 40)"
   ]
  },
  {
   "cell_type": "code",
   "execution_count": 7,
   "id": "058e2341-2653-44a0-a1c1-eeca38684c43",
   "metadata": {},
   "outputs": [
    {
     "name": "stderr",
     "output_type": "stream",
     "text": [
      "/tmp/ipykernel_5679/1264932578.py:2: DtypeWarning: Columns (0,2) have mixed types. Specify dtype option on import or set low_memory=False.\n",
      "  df_persons = pd.read_csv('Safety_data/dft-road-casualty-statistics-casualty-last-5-years_1.csv')\n"
     ]
    }
   ],
   "source": [
    "# 导入casualty 数据\n",
    "df_persons = pd.read_csv('Safety_data/dft-road-casualty-statistics-casualty-last-5-years_1.csv')"
   ]
  },
  {
   "cell_type": "code",
   "execution_count": 8,
   "id": "f3354de9-3ff8-4dbe-b321-694c493ebb4a",
   "metadata": {},
   "outputs": [],
   "source": [
    "# 将 'accident_index' 和 'accident_reference' 列中的整数转换为字符串\n",
    "df_persons['accident_index'] = df_persons['accident_index'].astype(str)\n",
    "df_persons['accident_reference'] = df_persons['accident_reference'].astype(str)"
   ]
  },
  {
   "cell_type": "code",
   "execution_count": 9,
   "id": "928d892e-be7a-46fe-904f-b37665ee750c",
   "metadata": {},
   "outputs": [
    {
     "name": "stdout",
     "output_type": "stream",
     "text": [
      "Column: accident_index\n",
      "accident_index\n",
      "<class 'str'>    665408\n",
      "Name: count, dtype: int64\n",
      "----------------------------------------\n",
      "Column: accident_year\n",
      "accident_year\n",
      "<class 'int'>    665408\n",
      "Name: count, dtype: int64\n",
      "----------------------------------------\n",
      "Column: accident_reference\n",
      "accident_reference\n",
      "<class 'str'>    665408\n",
      "Name: count, dtype: int64\n",
      "----------------------------------------\n",
      "Column: vehicle_reference\n",
      "vehicle_reference\n",
      "<class 'int'>    665408\n",
      "Name: count, dtype: int64\n",
      "----------------------------------------\n",
      "Column: casualty_reference\n",
      "casualty_reference\n",
      "<class 'int'>    665408\n",
      "Name: count, dtype: int64\n",
      "----------------------------------------\n",
      "Column: casualty_class\n",
      "casualty_class\n",
      "<class 'int'>    665408\n",
      "Name: count, dtype: int64\n",
      "----------------------------------------\n",
      "Column: sex_of_casualty\n",
      "sex_of_casualty\n",
      "<class 'int'>    665408\n",
      "Name: count, dtype: int64\n",
      "----------------------------------------\n",
      "Column: age_of_casualty\n",
      "age_of_casualty\n",
      "<class 'int'>    665408\n",
      "Name: count, dtype: int64\n",
      "----------------------------------------\n",
      "Column: age_band_of_casualty\n",
      "age_band_of_casualty\n",
      "<class 'int'>    665408\n",
      "Name: count, dtype: int64\n",
      "----------------------------------------\n",
      "Column: casualty_severity\n",
      "casualty_severity\n",
      "<class 'int'>    665408\n",
      "Name: count, dtype: int64\n",
      "----------------------------------------\n",
      "Column: pedestrian_location\n",
      "pedestrian_location\n",
      "<class 'int'>    665408\n",
      "Name: count, dtype: int64\n",
      "----------------------------------------\n",
      "Column: pedestrian_movement\n",
      "pedestrian_movement\n",
      "<class 'int'>    665408\n",
      "Name: count, dtype: int64\n",
      "----------------------------------------\n",
      "Column: car_passenger\n",
      "car_passenger\n",
      "<class 'int'>    665408\n",
      "Name: count, dtype: int64\n",
      "----------------------------------------\n",
      "Column: bus_or_coach_passenger\n",
      "bus_or_coach_passenger\n",
      "<class 'int'>    665408\n",
      "Name: count, dtype: int64\n",
      "----------------------------------------\n",
      "Column: pedestrian_road_maintenance_worker\n",
      "pedestrian_road_maintenance_worker\n",
      "<class 'int'>    665408\n",
      "Name: count, dtype: int64\n",
      "----------------------------------------\n",
      "Column: casualty_type\n",
      "casualty_type\n",
      "<class 'int'>    665408\n",
      "Name: count, dtype: int64\n",
      "----------------------------------------\n",
      "Column: casualty_home_area_type\n",
      "casualty_home_area_type\n",
      "<class 'int'>    665408\n",
      "Name: count, dtype: int64\n",
      "----------------------------------------\n",
      "Column: casualty_imd_decile\n",
      "casualty_imd_decile\n",
      "<class 'int'>    665408\n",
      "Name: count, dtype: int64\n",
      "----------------------------------------\n",
      "Column: lsoa_of_casualty\n",
      "lsoa_of_casualty\n",
      "<class 'str'>    665408\n",
      "Name: count, dtype: int64\n",
      "----------------------------------------\n",
      "Column: enhanced_casualty_severity\n",
      "enhanced_casualty_severity\n",
      "<class 'int'>    665408\n",
      "Name: count, dtype: int64\n",
      "----------------------------------------\n",
      "Column: casualty_distance_banding\n",
      "casualty_distance_banding\n",
      "<class 'int'>    665408\n",
      "Name: count, dtype: int64\n",
      "----------------------------------------\n"
     ]
    }
   ],
   "source": [
    "# 检查每一列中的唯一值的数据类型\n",
    "for column in df_persons.columns:\n",
    "    print(f\"Column: {column}\")\n",
    "    print(df_persons[column].apply(type).value_counts())\n",
    "    print(\"-\" * 40)"
   ]
  },
  {
   "cell_type": "code",
   "execution_count": 10,
   "id": "b22df96c-87e4-4b30-b264-22fff2a7e3ba",
   "metadata": {},
   "outputs": [
    {
     "name": "stdout",
     "output_type": "stream",
     "text": [
      "Data frame 1_collisions is 520,084 x 37\n",
      "Data frame 2_persons is 665,408 x 21\n"
     ]
    }
   ],
   "source": [
    "# Check data\n",
    "print(f\"Data frame 1_collisions is {df_collisions.shape[0]:,} x {df_collisions.shape[1]}\")\n",
    "print(f\"Data frame 2_persons is {df_persons.shape[0]:,} x {df_persons.shape[1]}\")"
   ]
  },
  {
   "cell_type": "code",
   "execution_count": 11,
   "id": "fd9570b7-2a5f-4670-88e1-9a272aa3727b",
   "metadata": {},
   "outputs": [
    {
     "name": "stdout",
     "output_type": "stream",
     "text": [
      "检查 df_collisions_clean 的第 0 列和第 2 列的数据类型是否混合：\n",
      "第 0 列类型： [<class 'str'>]\n",
      "第 2 列类型： [<class 'str'>]\n",
      "\n",
      "检查 df_persons 的第 0 列和第 2 列的数据类型是否混合：\n",
      "第 0 列类型： [<class 'str'>]\n",
      "第 2 列类型： [<class 'str'>]\n"
     ]
    }
   ],
   "source": [
    "# 检查第 0 列和第 2 列的类型是否混合\n",
    "def check_mixed_types(df, column_idx):\n",
    "    # 获取指定列的数据类型\n",
    "    types_in_column = df.iloc[:, column_idx].apply(type).unique()\n",
    "    return types_in_column\n",
    "\n",
    "# 检查第0列和第2列的数据类型\n",
    "print(\"检查 df_collisions_clean 的第 0 列和第 2 列的数据类型是否混合：\")\n",
    "print(\"第 0 列类型：\", check_mixed_types(df_collisions, 0))\n",
    "print(\"第 2 列类型：\", check_mixed_types(df_collisions, 2))\n",
    "\n",
    "print(\"\\n检查 df_persons 的第 0 列和第 2 列的数据类型是否混合：\")\n",
    "print(\"第 0 列类型：\", check_mixed_types(df_persons, 0))\n",
    "print(\"第 2 列类型：\", check_mixed_types(df_persons, 2))"
   ]
  },
  {
   "cell_type": "code",
   "execution_count": 12,
   "id": "8f00092c-9995-4e83-afc5-0168500142e2",
   "metadata": {},
   "outputs": [
    {
     "name": "stdout",
     "output_type": "stream",
     "text": [
      "location_easting_osgr     93\n",
      "location_northing_osgr    93\n",
      "longitude                 93\n",
      "latitude                  93\n",
      "accident_index             0\n",
      "dtype: int64\n"
     ]
    }
   ],
   "source": [
    "#Check NA 1: 查空值列1 collisions\n",
    "print(df_collisions.isna().sum().sort_values(ascending=False).head(5))"
   ]
  },
  {
   "cell_type": "code",
   "execution_count": 13,
   "id": "cbfad695-7cc7-4552-b7e1-30aff32af7c6",
   "metadata": {},
   "outputs": [
    {
     "name": "stdout",
     "output_type": "stream",
     "text": [
      "accident_index                0\n",
      "pedestrian_movement           0\n",
      "enhanced_casualty_severity    0\n",
      "lsoa_of_casualty              0\n",
      "casualty_imd_decile           0\n",
      "dtype: int64\n"
     ]
    }
   ],
   "source": [
    "#Check NA 2: 查空值列3 accidents\n",
    "print(df_persons.isna().sum().sort_values(ascending=False).head(5))"
   ]
  },
  {
   "cell_type": "code",
   "execution_count": 14,
   "id": "fd474c88-b529-4723-9bad-beb8f66dba1b",
   "metadata": {},
   "outputs": [
    {
     "name": "stdout",
     "output_type": "stream",
     "text": [
      "longitude                  93\n",
      "latitude                   93\n",
      "accident_index              0\n",
      "road_surface_conditions     0\n",
      "second_road_class           0\n",
      "dtype: int64\n"
     ]
    }
   ],
   "source": [
    "# Delete columns with most na 删掉collisions中空值最多的两列\n",
    "df_collisions_cols = df_collisions.drop(columns=['location_northing_osgr', 'location_easting_osgr'])\n",
    "print(df_collisions_cols.isna().sum().sort_values(ascending=False).head(5))"
   ]
  },
  {
   "cell_type": "code",
   "execution_count": 15,
   "id": "6a5c03ff-b0e6-4de8-9f72-93aff14424e5",
   "metadata": {},
   "outputs": [
    {
     "name": "stdout",
     "output_type": "stream",
     "text": [
      "accident_index        0\n",
      "weather_conditions    0\n",
      "junction_control      0\n",
      "second_road_class     0\n",
      "second_road_number    0\n",
      "dtype: int64\n"
     ]
    }
   ],
   "source": [
    "# Delete rows with most na 删掉collisions中经纬度有空值的行（因为这个数据很重要）\n",
    "df_collisions_clean = df_collisions_cols.dropna(subset=['longitude', 'latitude'])\n",
    "print(df_collisions_clean.isna().sum().sort_values(ascending=False).head(5))"
   ]
  },
  {
   "cell_type": "code",
   "execution_count": 16,
   "id": "fb4700c9-e714-457e-8e0d-5cb5c866c392",
   "metadata": {},
   "outputs": [
    {
     "name": "stdout",
     "output_type": "stream",
     "text": [
      "Index(['accident_index', 'accident_year', 'accident_reference', 'longitude',\n",
      "       'latitude', 'police_force', 'accident_severity', 'number_of_vehicles',\n",
      "       'number_of_casualties', 'date', 'day_of_week', 'time',\n",
      "       'local_authority_district', 'local_authority_ons_district',\n",
      "       'local_authority_highway', 'first_road_class', 'first_road_number',\n",
      "       'road_type', 'speed_limit', 'junction_detail', 'junction_control',\n",
      "       'second_road_class', 'second_road_number',\n",
      "       'pedestrian_crossing_human_control',\n",
      "       'pedestrian_crossing_physical_facilities', 'light_conditions',\n",
      "       'weather_conditions', 'road_surface_conditions',\n",
      "       'special_conditions_at_site', 'carriageway_hazards',\n",
      "       'urban_or_rural_area', 'did_police_officer_attend_scene_of_accident',\n",
      "       'trunk_road_flag', 'lsoa_of_accident_location',\n",
      "       'enhanced_severity_collision'],\n",
      "      dtype='object')\n",
      "Index(['accident_index', 'accident_year', 'accident_reference',\n",
      "       'vehicle_reference', 'casualty_reference', 'casualty_class',\n",
      "       'sex_of_casualty', 'age_of_casualty', 'age_band_of_casualty',\n",
      "       'casualty_severity', 'pedestrian_location', 'pedestrian_movement',\n",
      "       'car_passenger', 'bus_or_coach_passenger',\n",
      "       'pedestrian_road_maintenance_worker', 'casualty_type',\n",
      "       'casualty_home_area_type', 'casualty_imd_decile', 'lsoa_of_casualty',\n",
      "       'enhanced_casualty_severity', 'casualty_distance_banding'],\n",
      "      dtype='object')\n"
     ]
    }
   ],
   "source": [
    "# Check columns names 查看列头\n",
    "print(df_collisions_clean.columns)\n",
    "print(df_persons.columns)"
   ]
  },
  {
   "cell_type": "code",
   "execution_count": 18,
   "id": "78a9eaa6-14a3-4738-bd2e-0e5cefa4f2c9",
   "metadata": {},
   "outputs": [
    {
     "name": "stdout",
     "output_type": "stream",
     "text": [
      "(665408, 21)\n",
      "(665293, 55)\n",
      "accident_index                                 0\n",
      "second_road_class                              0\n",
      "day_of_week                                    0\n",
      "time                                           0\n",
      "local_authority_district                       0\n",
      "local_authority_ons_district                   0\n",
      "local_authority_highway                        0\n",
      "first_road_class                               0\n",
      "first_road_number                              0\n",
      "road_type                                      0\n",
      "speed_limit                                    0\n",
      "junction_detail                                0\n",
      "junction_control                               0\n",
      "second_road_number                             0\n",
      "number_of_casualties                           0\n",
      "pedestrian_crossing_human_control              0\n",
      "pedestrian_crossing_physical_facilities        0\n",
      "light_conditions                               0\n",
      "weather_conditions                             0\n",
      "road_surface_conditions                        0\n",
      "special_conditions_at_site                     0\n",
      "carriageway_hazards                            0\n",
      "urban_or_rural_area                            0\n",
      "did_police_officer_attend_scene_of_accident    0\n",
      "trunk_road_flag                                0\n",
      "lsoa_of_accident_location                      0\n",
      "date                                           0\n",
      "number_of_vehicles                             0\n",
      "accident_year_x                                0\n",
      "bus_or_coach_passenger                         0\n",
      "accident_reference_x                           0\n",
      "vehicle_reference                              0\n",
      "casualty_reference                             0\n",
      "casualty_class                                 0\n",
      "sex_of_casualty                                0\n",
      "age_of_casualty                                0\n",
      "age_band_of_casualty                           0\n",
      "casualty_severity                              0\n",
      "pedestrian_location                            0\n",
      "pedestrian_movement                            0\n",
      "car_passenger                                  0\n",
      "pedestrian_road_maintenance_worker             0\n",
      "accident_severity                              0\n",
      "casualty_type                                  0\n",
      "casualty_home_area_type                        0\n",
      "casualty_imd_decile                            0\n",
      "lsoa_of_casualty                               0\n",
      "enhanced_casualty_severity                     0\n",
      "casualty_distance_banding                      0\n",
      "accident_year_y                                0\n",
      "accident_reference_y                           0\n",
      "longitude                                      0\n",
      "latitude                                       0\n",
      "police_force                                   0\n",
      "enhanced_severity_collision                    0\n",
      "dtype: int64\n"
     ]
    }
   ],
   "source": [
    "# Merge them based on common key \"accident_index\" 合并两个数据集 \n",
    "print(df_persons.shape)\n",
    "df_per_coll = pd.merge(df_persons, df_collisions_clean, on='accident_index', how='inner')\n",
    "\n",
    "# Check df_per_coll\n",
    "print(df_per_coll.shape)\n",
    "print(df_per_coll.isna().sum().sort_values(ascending=False))"
   ]
  },
  {
   "cell_type": "code",
   "execution_count": 19,
   "id": "7b9c825e-4f72-43b7-8d63-46db049bbc0b",
   "metadata": {},
   "outputs": [
    {
     "name": "stdout",
     "output_type": "stream",
     "text": [
      "(134578, 55)\n"
     ]
    }
   ],
   "source": [
    "# Filter out london's data 从里面筛选出伦敦的\n",
    "df_per_coll_London = df_per_coll[df_per_coll['police_force'].isin([1,48])]\n",
    "print(df_per_coll_London.shape)"
   ]
  },
  {
   "cell_type": "code",
   "execution_count": 20,
   "id": "d975031c-6e2a-41b2-b5f8-dfb109d81a87",
   "metadata": {},
   "outputs": [
    {
     "name": "stdout",
     "output_type": "stream",
     "text": [
      "(75963, 55)\n"
     ]
    }
   ],
   "source": [
    "# Filter out vru's data 从里面筛选出vru\n",
    "df_per_coll_London_vru = df_per_coll_London[df_per_coll_London['casualty_type'].isin([0,1,2,3,4,5,22,23,97,103,104,105,106])]\n",
    "print(df_per_coll_London_vru.shape)"
   ]
  },
  {
   "cell_type": "code",
   "execution_count": 21,
   "id": "d3b26698-3e06-4983-b40f-38d6f21d6bc7",
   "metadata": {},
   "outputs": [
    {
     "name": "stdout",
     "output_type": "stream",
     "text": [
      "casualty_type\n",
      "1     24594\n",
      "0     22292\n",
      "3     20348\n",
      "5      3592\n",
      "4      3006\n",
      "2      1655\n",
      "23      295\n",
      "97       92\n",
      "22       89\n",
      "Name: count, dtype: int64\n"
     ]
    }
   ],
   "source": [
    "# Check casualty_type 查看受伤类型\n",
    "value_counts = df_per_coll_London_vru['casualty_type'].value_counts()\n",
    "print(value_counts)"
   ]
  },
  {
   "cell_type": "code",
   "execution_count": 25,
   "id": "c79eeb01-38b6-4861-8773-dfcc8cf44cee",
   "metadata": {},
   "outputs": [],
   "source": [
    "# Selected columns 列出想要的列\n",
    "cols = ['accident_index','accident_year_x','accident_reference_x','longitude', 'latitude', 'police_force', \n",
    "        'accident_severity', 'date', 'day_of_week', 'local_authority_district', 'road_type', \n",
    "        'speed_limit', 'light_conditions', 'weather_conditions', 'road_surface_conditions', \n",
    "        'lsoa_of_accident_location', 'casualty_class', 'sex_of_casualty', 'casualty_severity', \n",
    "        'pedestrian_location', 'casualty_type', 'casualty_distance_banding','time']"
   ]
  },
  {
   "cell_type": "code",
   "execution_count": 26,
   "id": "6d134e39-afa8-44d3-b91a-949caf7e2665",
   "metadata": {},
   "outputs": [
    {
     "name": "stdout",
     "output_type": "stream",
     "text": [
      "(75963, 23)\n"
     ]
    }
   ],
   "source": [
    "# Filtered out selected columns 筛出想要的列\n",
    "df_per_coll_London_vru_s1 = df_per_coll_London_vru[cols]\n",
    "print(df_per_coll_London_vru_s1.shape)"
   ]
  },
  {
   "cell_type": "code",
   "execution_count": 27,
   "id": "f136ab34-a4b0-417b-a012-1a5ff87964a5",
   "metadata": {},
   "outputs": [],
   "source": [
    "# save to csv\n",
    "df_per_coll_London_vru.to_csv('df_per_coll_London_vru_correct.csv', index=False)\n",
    "df_per_coll_London_vru_s1.to_csv('df_per_coll_London_vru_s1_correct.csv', index=False)"
   ]
  },
  {
   "cell_type": "code",
   "execution_count": 34,
   "id": "9a1089b8-b162-44b8-953f-b33dea2463c8",
   "metadata": {},
   "outputs": [
    {
     "name": "stdout",
     "output_type": "stream",
     "text": [
      "符合条件的行数: 3132\n"
     ]
    }
   ],
   "source": [
    "# 筛选出 accident_year_x 为 2023 且 accident_severity 为 1 或 2 的行\n",
    "filtered_data = df_per_coll_London_vru_s1[\n",
    "    (df_per_coll_London_vru_s1['accident_year_x'] == 2023) & \n",
    "    (df_per_coll_London_vru_s1['accident_severity'].isin([1, 2]))\n",
    "]\n",
    "\n",
    "# 查看筛选后的行数\n",
    "num_rows = filtered_data.shape[0]\n",
    "\n",
    "print(f\"符合条件的行数: {num_rows}\")"
   ]
  },
  {
   "cell_type": "code",
   "execution_count": null,
   "id": "fedf6c48-e703-429f-ace6-cee1691cb950",
   "metadata": {},
   "outputs": [],
   "source": []
  }
 ],
 "metadata": {
  "kernelspec": {
   "display_name": "Python (base)",
   "language": "python",
   "name": "base"
  },
  "language_info": {
   "codemirror_mode": {
    "name": "ipython",
    "version": 3
   },
   "file_extension": ".py",
   "mimetype": "text/x-python",
   "name": "python",
   "nbconvert_exporter": "python",
   "pygments_lexer": "ipython3",
   "version": "3.11.9"
  }
 },
 "nbformat": 4,
 "nbformat_minor": 5
}
